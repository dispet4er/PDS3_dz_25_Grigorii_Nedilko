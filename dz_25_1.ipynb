{
 "cells": [
  {
   "cell_type": "code",
   "execution_count": 2,
   "id": "47e984d5",
   "metadata": {},
   "outputs": [],
   "source": [
    "import numpy as np\n",
    "\n",
    "# ймовірність виявлення стандартної деталі\n",
    "p_standard = 0.6\n",
    "\n",
    "# кількість деталей, які підлягають перевірці\n",
    "n = 3\n",
    "\n",
    "# створюємо можливі значення випадкової величини X - кількість бракованих деталей\n",
    "x_values = np.arange(0, n+1)\n",
    "\n",
    "# обчислюємо ймовірності відповідних значень X\n",
    "p_x = [np.math.comb(n, x) * (1 - p_standard)**x * p_standard**(n-x) for x in x_values]\n",
    "\n",
    "# створюємо можливі значення випадкової величини Y - кількість стандартних деталей\n",
    "y_values = np.arange(0, n+1)\n",
    "\n",
    "# обчислюємо ймовірності відповідних значень Y\n",
    "p_y = [np.math.comb(n, y) * p_standard**y * (1 - p_standard)**(n-y) for y in y_values]\n"
   ]
  },
  {
   "cell_type": "code",
   "execution_count": 4,
   "id": "04b35578",
   "metadata": {},
   "outputs": [],
   "source": [
    "# створюємо таблицю ймовірностей спільних значень (X,Y)\n",
    "joint_probs = np.zeros((n+1, n+1))\n",
    "for x in x_values:\n",
    "    for y in y_values:\n",
    "        if x+y <= n:\n",
    "            joint_probs[x,y] = np.math.comb(n, x) * p_standard**y * (1 - p_standard)**(n-x-y) * (1 - p_standard)**x"
   ]
  },
  {
   "cell_type": "code",
   "execution_count": 5,
   "id": "ef3dc664",
   "metadata": {},
   "outputs": [],
   "source": [
    "# обчислюємо коефіцієнт кореляції\n",
    "covariance = np.sum((x_values[:,np.newaxis]-np.mean(x_values))*(y_values[np.newaxis,:]-np.mean(y_values))*joint_probs)\n",
    "std_x = np.sqrt(np.sum((x_values-np.mean(x_values))**2 * p_x))\n",
    "std_y = np.sqrt(np.sum((y_values-np.mean(y_values))**2 * p_y))\n",
    "correlation = covariance / (std_x * std_y)"
   ]
  },
  {
   "cell_type": "code",
   "execution_count": 6,
   "id": "8300df15",
   "metadata": {},
   "outputs": [
    {
     "name": "stdout",
     "output_type": "stream",
     "text": [
      "Закон розподілу випадкової величини X:\n",
      " [0 1 2 3]\n",
      "Ймовірності відповідних значень X:\n",
      " [0.21599999999999997, 0.43200000000000005, 0.28800000000000003, 0.06400000000000002]\n",
      "Закон розподілу випадкової величини Y:\n",
      " [0 1 2 3]\n",
      "Ймовірності відповідних значень Y:\n",
      " [0.06400000000000002, 0.28800000000000003, 0.43200000000000005, 0.21599999999999997]\n",
      "Таблиця спільних йможливих значень (X,Y):\n",
      " [[0.064 0.096 0.144 0.216]\n",
      " [0.192 0.288 0.432 0.   ]\n",
      " [0.192 0.288 0.    0.   ]\n",
      " [0.064 0.    0.    0.   ]]\n",
      "Коефіцієнт кореляції r(X,Y) =  -0.7777777777777776\n"
     ]
    }
   ],
   "source": [
    "print(\"Закон розподілу випадкової величини X:\\n\", x_values)\n",
    "print(\"Ймовірності відповідних значень X:\\n\", p_x)\n",
    "print(\"Закон розподілу випадкової величини Y:\\n\", y_values)\n",
    "print(\"Ймовірності відповідних значень Y:\\n\", p_y)\n",
    "print(\"Таблиця спільних йможливих значень (X,Y):\\n\", joint_probs)\n",
    "print(\"Коефіцієнт кореляції r(X,Y) = \", correlation)"
   ]
  },
  {
   "cell_type": "code",
   "execution_count": null,
   "id": "6f1e08f2",
   "metadata": {},
   "outputs": [],
   "source": []
  }
 ],
 "metadata": {
  "kernelspec": {
   "display_name": "Python 3 (ipykernel)",
   "language": "python",
   "name": "python3"
  },
  "language_info": {
   "codemirror_mode": {
    "name": "ipython",
    "version": 3
   },
   "file_extension": ".py",
   "mimetype": "text/x-python",
   "name": "python",
   "nbconvert_exporter": "python",
   "pygments_lexer": "ipython3",
   "version": "3.10.8"
  }
 },
 "nbformat": 4,
 "nbformat_minor": 5
}
